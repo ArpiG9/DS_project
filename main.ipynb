{
 "cells": [
  {
   "cell_type": "code",
   "execution_count": null,
   "metadata": {},
   "outputs": [
    {
     "name": "stdout",
     "output_type": "stream",
     "text": [
      "(811, 128, 128, 3)\n"
     ]
    }
   ],
   "source": [
    "import numpy as np\n",
    "import pandas as pd\n",
    "from PIL import Image\n",
    "import glob\n",
    "\n",
    "class DataLoader:\n",
    "    def load_images_glob(folder_path, image_size=(128, 128)):\n",
    "        image_paths = glob.glob(f\"{folder_path}/**/*.jpg\", recursive=True)  # or *.png\n",
    "        images = []\n",
    "\n",
    "        for path in image_paths:\n",
    "            try:\n",
    "                img = Image.open(path).convert(\"RGB\")\n",
    "                img = img.resize(image_size)\n",
    "                images.append(np.array(img))\n",
    "            except Exception as e:\n",
    "                print(f\"Failed to load {path}: {e}\")\n",
    "\n",
    "        return np.array(images)\n",
    "\n",
    "images_np = DataLoader.load_images_glob(r\"/Users/arpi/Aua/1_Spring/Prog\") #path of data\n",
    "print(images_np.shape)  # (num_images, height, width, RGB)"
   ]
  },
  {
   "cell_type": "code",
   "execution_count": null,
   "metadata": {},
   "outputs": [],
   "source": [
    "#features"
   ]
  },
  {
   "cell_type": "markdown",
   "metadata": {},
   "source": []
  }
 ],
 "metadata": {
  "kernelspec": {
   "display_name": "Python 3",
   "language": "python",
   "name": "python3"
  },
  "language_info": {
   "codemirror_mode": {
    "name": "ipython",
    "version": 3
   },
   "file_extension": ".py",
   "mimetype": "text/x-python",
   "name": "python",
   "nbconvert_exporter": "python",
   "pygments_lexer": "ipython3",
   "version": "3.9.6"
  }
 },
 "nbformat": 4,
 "nbformat_minor": 2
}
